{
 "cells": [
  {
   "cell_type": "markdown",
   "metadata": {},
   "source": [
    "# Model lift calculation"
   ]
  },
  {
   "cell_type": "code",
   "execution_count": null,
   "metadata": {},
   "outputs": [],
   "source": [
    "import pandas as pd\n",
    "import numpy as np\n",
    "from sklearn.model_selection import train_test_split\n",
    "from sklearn import metrics\n",
    "from sklearn.ensemble import GradientBoostingClassifier\n",
    "from sklearn.metrics import classification_report"
   ]
  },
  {
   "cell_type": "markdown",
   "metadata": {},
   "source": [
    "## data import and cleansing"
   ]
  },
  {
   "cell_type": "code",
   "execution_count": null,
   "metadata": {},
   "outputs": [],
   "source": [
    "ca = pd.read_csv('banking.csv', header=0)\n",
    "ca = ca.dropna()\n",
    "print(ca.shape)\n",
    "print(list(ca.columns))"
   ]
  },
  {
   "cell_type": "code",
   "execution_count": null,
   "metadata": {},
   "outputs": [],
   "source": [
    "base = ca[['y']]"
   ]
  },
  {
   "cell_type": "code",
   "execution_count": null,
   "metadata": {},
   "outputs": [],
   "source": [
    "## identify categorical variables\n",
    "cat = ca.select_dtypes(exclude=['int', 'float']).columns\n",
    "print(len(cat))\n",
    "print('Number of categoriacal features:', len(cat))\n",
    "CatVar=ca[cat]\n",
    "\n",
    "Nl=[]\n",
    "for column in CatVar.columns:\n",
    "    if CatVar[column].isnull().values.any() == True:\n",
    "        Nl.append(column)\n",
    "    \n",
    "print('columns with missing values:', Nl)"
   ]
  },
  {
   "cell_type": "code",
   "execution_count": null,
   "metadata": {},
   "outputs": [],
   "source": [
    "Cat_dummies = pd.get_dummies(CatVar)\n",
    "print(CatVar.shape)\n",
    "print(Cat_dummies.shape)"
   ]
  },
  {
   "cell_type": "code",
   "execution_count": null,
   "metadata": {},
   "outputs": [],
   "source": [
    "## Identify continuous variables\n",
    "cont1 = ca.select_dtypes(include=['int', 'float']).columns\n",
    "print('initial number of continuous features: ',len(cont1))\n",
    "\n",
    "\n",
    "## Exclude those previously classified as dummies\n",
    "cont4=set(cont1).difference(cat)\n",
    "cont=set(cont4).difference(base)\n",
    "print('initial number of continuous features after exclusions: ',len(cont))\n",
    "print()\n",
    "\n",
    "ContVar= ca[cont]\n",
    "\n",
    "Nl3=[]\n",
    "for column in ContVar.columns:\n",
    "    if ContVar[column].isnull().values.any() == True:\n",
    "        Nl3.append(column)\n",
    "    \n",
    "print('features with missing values: ',Nl3)"
   ]
  },
  {
   "cell_type": "code",
   "execution_count": null,
   "metadata": {},
   "outputs": [],
   "source": [
    "print(base.shape)\n",
    "print(ContVar.shape)\n",
    "print(Cat_dummies.shape)"
   ]
  },
  {
   "cell_type": "code",
   "execution_count": null,
   "metadata": {},
   "outputs": [],
   "source": [
    "df = pd.concat([base,ContVar,Cat_dummies,],axis=1)\n",
    "df.shape\n",
    "df.to_csv('banking_campaign.csv')"
   ]
  },
  {
   "cell_type": "code",
   "execution_count": null,
   "metadata": {},
   "outputs": [],
   "source": [
    "X = df.iloc[:,1:]\n",
    "y = df.iloc[:,0]"
   ]
  },
  {
   "cell_type": "code",
   "execution_count": null,
   "metadata": {},
   "outputs": [],
   "source": [
    "from imblearn.over_sampling import SMOTE\n",
    "os = SMOTE(random_state=0)\n",
    "X_train, X_test, y_train, y_test = train_test_split(X, y, test_size=0.3, random_state=0)\n",
    "columns = X_train.columns\n",
    "os_data_X,os_data_y=os.fit_sample(X_train, y_train)\n",
    "os_data_X = pd.DataFrame(data=os_data_X,columns=columns )\n",
    "os_data_y= pd.DataFrame(data=os_data_y,columns=['y'])\n",
    "\n",
    "print(\"length of oversampled data is \",len(os_data_X))\n",
    "print(\"Number of no subscription in oversampled data\",len(os_data_y[os_data_y['y']==0]))\n",
    "print(\"Number of subscription\",len(os_data_y[os_data_y['y']==1]))\n",
    "print(\"Proportion of no subscription data in oversampled data is \",len(os_data_y[os_data_y['y']==0])/len(os_data_X))\n",
    "print(\"Proportion of subscription data in oversampled data is \",len(os_data_y[os_data_y['y']==1])/len(os_data_X))"
   ]
  },
  {
   "cell_type": "markdown",
   "metadata": {},
   "source": [
    "##  gradient boosting model"
   ]
  },
  {
   "cell_type": "code",
   "execution_count": null,
   "metadata": {},
   "outputs": [],
   "source": [
    "GBM = GradientBoostingClassifier(learning_rate=0.01, \n",
    "                                      n_estimators=1000,\n",
    "                                      max_depth=6, \n",
    "                                      min_samples_split=50, \n",
    "                                      min_samples_leaf=25, \n",
    "                                      subsample=0.8,\n",
    "                                      max_features=10, \n",
    "                                      random_state=10)\n",
    "GBM.fit(X_train,y_train)"
   ]
  },
  {
   "cell_type": "code",
   "execution_count": null,
   "metadata": {
    "scrolled": true
   },
   "outputs": [],
   "source": [
    "print('Accuracy of the GBM on test set: {:.3f}'.format(GBM.score(X_test, y_test)))\n",
    "pred=GBM.predict(X_test)\n",
    "print(classification_report(y_test, pred))\n",
    "from sklearn.metrics import roc_auc_score\n",
    "print (roc_auc_score(y_test, pred))"
   ]
  },
  {
   "cell_type": "code",
   "execution_count": null,
   "metadata": {},
   "outputs": [],
   "source": [
    "y_pred2=GBM.predict_proba(X_test)"
   ]
  },
  {
   "cell_type": "markdown",
   "metadata": {},
   "source": [
    "## model lift calculation and visualisation"
   ]
  },
  {
   "cell_type": "code",
   "execution_count": null,
   "metadata": {},
   "outputs": [],
   "source": [
    "def lift (test, pred, cardinaility):\n",
    "\n",
    "    res = pd.DataFrame(np.column_stack((test, pred)),\n",
    "                       columns=['Target','PR_0', 'PR_1'])\n",
    "\n",
    "    res['scr_grp'] = pd.qcut(res['PR_0'], cardinaility, labels=False)+1\n",
    "\n",
    "    crt = pd.crosstab(res.scr_grp, res.Target).reset_index()\n",
    "    crt = crt.rename(columns= {'Target':'Np',0.0: 'Negatives', 1.0: 'Positives'})\n",
    "\n",
    "    G = crt['Positives'].sum()\n",
    "    B = crt['Negatives'].sum()\n",
    "   \n",
    "    avg_resp_rate = G/(G+B)\n",
    "\n",
    "    crt['resp_rate'] = round(crt['Positives']/(crt['Positives']+crt['Negatives']),2)\n",
    "    crt['lift'] = round((crt['resp_rate']/avg_resp_rate),2)\n",
    "    crt['rand_resp'] = 1/cardinaility\n",
    "    crt['cmltv_p'] = round((crt['Positives']).cumsum(),2)\n",
    "    crt['cmltv_p_perc'] = round(((crt['Positives']/G).cumsum())*100,1)\n",
    "    crt['cmltv_n'] = round((crt['Negatives']).cumsum(),2)  \n",
    "    crt['cmltv_n_perc'] = round(((crt['Negatives']/B).cumsum())*100,1)   \n",
    "    crt['cmltv_rand_p_perc'] = (crt.rand_resp.cumsum())*100\n",
    "    crt['cmltv_resp_rate'] = round(crt['cmltv_p']/(crt['cmltv_p']+crt['cmltv_n']),2)   \n",
    "    crt['cmltv_lift'] = round(crt['cmltv_resp_rate']/avg_resp_rate,2)\n",
    "    crt['KS']=round(crt['cmltv_p_perc']-crt['cmltv_rand_p_perc'],2)\n",
    "    crt = crt.drop(['rand_resp','cmltv_p','cmltv_n',], axis=1)\n",
    "    \n",
    "    print('average response rate: ' , avg_resp_rate)\n",
    "    return crt"
   ]
  },
  {
   "cell_type": "code",
   "execution_count": null,
   "metadata": {},
   "outputs": [],
   "source": [
    "ModelLift = lift(y_test,y_pred2,10)"
   ]
  },
  {
   "cell_type": "code",
   "execution_count": null,
   "metadata": {},
   "outputs": [],
   "source": [
    "ModelLift"
   ]
  },
  {
   "cell_type": "code",
   "execution_count": null,
   "metadata": {},
   "outputs": [],
   "source": [
    "dec = ['Decile 1','Decile 2','Decile 3','Decile 4','Decile 5','Decile 6','Decile 7','Decile 8','Decile 9','Decile 10',]\n",
    "MLift=ModelLift[['Positives','Negatives','cmltv_lift','KS']].copy()\n",
    "MLift.index = (dec)"
   ]
  },
  {
   "cell_type": "code",
   "execution_count": null,
   "metadata": {},
   "outputs": [],
   "source": [
    "import cufflinks as cf\n",
    "cf.go_offline()\n",
    "cf.set_config_file(offline=False, world_readable=True)\n",
    "\n",
    "MLift[['Positives','Negatives']].iplot(kind='bar',yTitle='Volume',xTitle='Model decile', title='Positives & Negatives by model decile')"
   ]
  },
  {
   "cell_type": "code",
   "execution_count": null,
   "metadata": {},
   "outputs": [],
   "source": [
    "MLift[['cmltv_lift']].iplot(kind='bar',color='LightSkyBlue',yTitle='Lift',xTitle='Model decile', title='Cumulative Lift', yrange=[1.11, 6])"
   ]
  },
  {
   "cell_type": "code",
   "execution_count": null,
   "metadata": {},
   "outputs": [],
   "source": [
    "MLift[['KS']].iplot(kind='bar',color='DarkSlateGrey', yTitle='Separation',xTitle='Model decile', title='Target separation')"
   ]
  }
 ],
 "metadata": {
  "kernelspec": {
   "display_name": "Python 3",
   "language": "python",
   "name": "python3"
  },
  "language_info": {
   "codemirror_mode": {
    "name": "ipython",
    "version": 3
   },
   "file_extension": ".py",
   "mimetype": "text/x-python",
   "name": "python",
   "nbconvert_exporter": "python",
   "pygments_lexer": "ipython3",
   "version": "3.7.4"
  }
 },
 "nbformat": 4,
 "nbformat_minor": 2
}
